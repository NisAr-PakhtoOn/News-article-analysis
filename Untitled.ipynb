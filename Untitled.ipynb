{
 "cells": [
  {
   "cell_type": "code",
   "execution_count": 1,
   "id": "e43613cd",
   "metadata": {},
   "outputs": [
    {
     "name": "stderr",
     "output_type": "stream",
     "text": [
      "[nltk_data] Downloading package stopwords to\n",
      "[nltk_data]     C:\\Users\\hp\\AppData\\Roaming\\nltk_data...\n",
      "[nltk_data]   Package stopwords is already up-to-date!\n",
      "[nltk_data] Downloading package wordnet to\n",
      "[nltk_data]     C:\\Users\\hp\\AppData\\Roaming\\nltk_data...\n",
      "[nltk_data]   Package wordnet is already up-to-date!\n",
      "[nltk_data] Downloading package punkt to\n",
      "[nltk_data]     C:\\Users\\hp\\AppData\\Roaming\\nltk_data...\n",
      "[nltk_data]   Package punkt is already up-to-date!\n"
     ]
    }
   ],
   "source": [
    "import pandas as pd\n",
    "import numpy as np\n",
    "import matplotlib.pyplot as plt\n",
    "import seaborn as sns\n",
    "import re\n",
    "import nltk\n",
    "from nltk.corpus import stopwords\n",
    "nltk.download('stopwords')\n",
    "from nltk.stem import PorterStemmer\n",
    "from nltk.stem import WordNetLemmatizer\n",
    "nltk.download('wordnet')\n",
    "from nltk.tokenize import word_tokenize\n",
    "from nltk.tokenize import sent_tokenize\n",
    "nltk.download('punkt')\n",
    "from wordcloud import WordCloud\n",
    "from sklearn.feature_extraction.text import CountVectorizer\n",
    "from sklearn.feature_extraction.text import TfidfVectorizer\n",
    "from sklearn.model_selection import train_test_split\n",
    "from sklearn.metrics import accuracy_score\n",
    "from sklearn.metrics import confusion_matrix\n",
    "from sklearn.metrics import classification_report\n",
    "from sklearn.metrics import make_scorer, roc_curve, roc_auc_score\n",
    "from sklearn.metrics import precision_recall_fscore_support as score\n",
    "from sklearn.metrics.pairwise import cosine_similarity\n",
    "from sklearn.multiclass import OneVsRestClassifier\n",
    "from sklearn.linear_model import LogisticRegression\n",
    "from sklearn.svm import SVC, LinearSVC\n",
    "from sklearn.tree import DecisionTreeClassifier\n",
    "from sklearn.ensemble import RandomForestClassifier\n",
    "from sklearn.neighbors import KNeighborsClassifier\n",
    "from sklearn.naive_bayes import GaussianNB,MultinomialNB,BernoulliNB"
   ]
  },
  {
   "cell_type": "code",
   "execution_count": 2,
   "id": "a498daa9",
   "metadata": {},
   "outputs": [
    {
     "data": {
      "text/html": [
       "<div>\n",
       "<style scoped>\n",
       "    .dataframe tbody tr th:only-of-type {\n",
       "        vertical-align: middle;\n",
       "    }\n",
       "\n",
       "    .dataframe tbody tr th {\n",
       "        vertical-align: top;\n",
       "    }\n",
       "\n",
       "    .dataframe thead th {\n",
       "        text-align: right;\n",
       "    }\n",
       "</style>\n",
       "<table border=\"1\" class=\"dataframe\">\n",
       "  <thead>\n",
       "    <tr style=\"text-align: right;\">\n",
       "      <th></th>\n",
       "      <th>Category</th>\n",
       "      <th>Title</th>\n",
       "      <th>News_Article</th>\n",
       "    </tr>\n",
       "  </thead>\n",
       "  <tbody>\n",
       "    <tr>\n",
       "      <th>0</th>\n",
       "      <td>Maraqlı</td>\n",
       "      <td>Naviforce Sport Saat 2016 ilə zövqlərin ahəngi</td>\n",
       "      <td>Naviforce Sport Saat 2016 Yapon Mexanizmi Yapo...</td>\n",
       "    </tr>\n",
       "    <tr>\n",
       "      <th>1</th>\n",
       "      <td>Maraqlı</td>\n",
       "      <td>Sinir ,oynaq , sinir bel ağrılarına 3 gündə son !</td>\n",
       "      <td>ŞOK ! ŞOK ! ŞOK ! Xanımlar və bəylər , bel və ...</td>\n",
       "    </tr>\n",
       "    <tr>\n",
       "      <th>2</th>\n",
       "      <td>Maraqlı</td>\n",
       "      <td>Dəyərindən qat-qat aşağı qiymətə Mənzil</td>\n",
       "      <td>Dəyərindən qat-qat Aşağı Qiymətə. Həzi Aslanov...</td>\n",
       "    </tr>\n",
       "    <tr>\n",
       "      <th>3</th>\n",
       "      <td>İdman</td>\n",
       "      <td>2024 və 2028-ci il olimpiadalarının keçiriləcə...</td>\n",
       "      <td>2028-ci il Yay Olimpiya və Paralimpiya Oyunla...</td>\n",
       "    </tr>\n",
       "    <tr>\n",
       "      <th>4</th>\n",
       "      <td>Dünya</td>\n",
       "      <td>Türkiyədə zəlzələ</td>\n",
       "      <td>Türkiyədə daha bir zəlzələ meydana gəlib.   L...</td>\n",
       "    </tr>\n",
       "  </tbody>\n",
       "</table>\n",
       "</div>"
      ],
      "text/plain": [
       "  Category                                              Title  \\\n",
       "0  Maraqlı     Naviforce Sport Saat 2016 ilə zövqlərin ahəngi   \n",
       "1  Maraqlı  Sinir ,oynaq , sinir bel ağrılarına 3 gündə son !   \n",
       "2  Maraqlı            Dəyərindən qat-qat aşağı qiymətə Mənzil   \n",
       "3    İdman  2024 və 2028-ci il olimpiadalarının keçiriləcə...   \n",
       "4    Dünya                                 Türkiyədə zəlzələ    \n",
       "\n",
       "                                        News_Article  \n",
       "0  Naviforce Sport Saat 2016 Yapon Mexanizmi Yapo...  \n",
       "1  ŞOK ! ŞOK ! ŞOK ! Xanımlar və bəylər , bel və ...  \n",
       "2  Dəyərindən qat-qat Aşağı Qiymətə. Həzi Aslanov...  \n",
       "3   2028-ci il Yay Olimpiya və Paralimpiya Oyunla...  \n",
       "4   Türkiyədə daha bir zəlzələ meydana gəlib.   L...  "
      ]
     },
     "execution_count": 2,
     "metadata": {},
     "output_type": "execute_result"
    }
   ],
   "source": [
    "dataset = pd.read_excel(\"news.xlsx\")\n",
    "dataset.head()"
   ]
  },
  {
   "cell_type": "code",
   "execution_count": 3,
   "id": "202585ae",
   "metadata": {},
   "outputs": [
    {
     "data": {
      "text/plain": [
       "(50000, 3)"
      ]
     },
     "execution_count": 3,
     "metadata": {},
     "output_type": "execute_result"
    }
   ],
   "source": [
    "dataset.shape"
   ]
  },
  {
   "cell_type": "code",
   "execution_count": 4,
   "id": "3b153f17",
   "metadata": {},
   "outputs": [
    {
     "data": {
      "text/plain": [
       "Maraqlı         15865\n",
       "Dünya           13474\n",
       "Siyasət          6541\n",
       "İqtisadiyyat     6368\n",
       "İdman            6205\n",
       "Mədəniyyət       1547\n",
       "Name: Category, dtype: int64"
      ]
     },
     "execution_count": 4,
     "metadata": {},
     "output_type": "execute_result"
    }
   ],
   "source": [
    "dataset['Category'].value_counts()"
   ]
  },
  {
   "cell_type": "markdown",
   "id": "ac61313f",
   "metadata": {},
   "source": [
    "#### Convert Categories Name into Numerical Index"
   ]
  },
  {
   "cell_type": "code",
   "execution_count": 5,
   "id": "36cf0fbe",
   "metadata": {},
   "outputs": [
    {
     "name": "stdout",
     "output_type": "stream",
     "text": [
      "['Maraqlı' 'İdman' 'Dünya' 'Siyasət' 'İqtisadiyyat' 'Mədəniyyət']\n"
     ]
    }
   ],
   "source": [
    "# Associate Category names with numerical index and save it in new column CategoryId\n",
    "target_category = dataset['Category'].unique()\n",
    "print(target_category)"
   ]
  },
  {
   "cell_type": "code",
   "execution_count": 6,
   "id": "5f43751c",
   "metadata": {},
   "outputs": [
    {
     "data": {
      "text/html": [
       "<div>\n",
       "<style scoped>\n",
       "    .dataframe tbody tr th:only-of-type {\n",
       "        vertical-align: middle;\n",
       "    }\n",
       "\n",
       "    .dataframe tbody tr th {\n",
       "        vertical-align: top;\n",
       "    }\n",
       "\n",
       "    .dataframe thead th {\n",
       "        text-align: right;\n",
       "    }\n",
       "</style>\n",
       "<table border=\"1\" class=\"dataframe\">\n",
       "  <thead>\n",
       "    <tr style=\"text-align: right;\">\n",
       "      <th></th>\n",
       "      <th>Category</th>\n",
       "      <th>Title</th>\n",
       "      <th>News_Article</th>\n",
       "      <th>CategoryId</th>\n",
       "    </tr>\n",
       "  </thead>\n",
       "  <tbody>\n",
       "    <tr>\n",
       "      <th>0</th>\n",
       "      <td>Maraqlı</td>\n",
       "      <td>Naviforce Sport Saat 2016 ilə zövqlərin ahəngi</td>\n",
       "      <td>Naviforce Sport Saat 2016 Yapon Mexanizmi Yapo...</td>\n",
       "      <td>0</td>\n",
       "    </tr>\n",
       "    <tr>\n",
       "      <th>1</th>\n",
       "      <td>Maraqlı</td>\n",
       "      <td>Sinir ,oynaq , sinir bel ağrılarına 3 gündə son !</td>\n",
       "      <td>ŞOK ! ŞOK ! ŞOK ! Xanımlar və bəylər , bel və ...</td>\n",
       "      <td>0</td>\n",
       "    </tr>\n",
       "    <tr>\n",
       "      <th>2</th>\n",
       "      <td>Maraqlı</td>\n",
       "      <td>Dəyərindən qat-qat aşağı qiymətə Mənzil</td>\n",
       "      <td>Dəyərindən qat-qat Aşağı Qiymətə. Həzi Aslanov...</td>\n",
       "      <td>0</td>\n",
       "    </tr>\n",
       "    <tr>\n",
       "      <th>3</th>\n",
       "      <td>İdman</td>\n",
       "      <td>2024 və 2028-ci il olimpiadalarının keçiriləcə...</td>\n",
       "      <td>2028-ci il Yay Olimpiya və Paralimpiya Oyunla...</td>\n",
       "      <td>1</td>\n",
       "    </tr>\n",
       "    <tr>\n",
       "      <th>4</th>\n",
       "      <td>Dünya</td>\n",
       "      <td>Türkiyədə zəlzələ</td>\n",
       "      <td>Türkiyədə daha bir zəlzələ meydana gəlib.   L...</td>\n",
       "      <td>2</td>\n",
       "    </tr>\n",
       "  </tbody>\n",
       "</table>\n",
       "</div>"
      ],
      "text/plain": [
       "  Category                                              Title  \\\n",
       "0  Maraqlı     Naviforce Sport Saat 2016 ilə zövqlərin ahəngi   \n",
       "1  Maraqlı  Sinir ,oynaq , sinir bel ağrılarına 3 gündə son !   \n",
       "2  Maraqlı            Dəyərindən qat-qat aşağı qiymətə Mənzil   \n",
       "3    İdman  2024 və 2028-ci il olimpiadalarının keçiriləcə...   \n",
       "4    Dünya                                 Türkiyədə zəlzələ    \n",
       "\n",
       "                                        News_Article  CategoryId  \n",
       "0  Naviforce Sport Saat 2016 Yapon Mexanizmi Yapo...           0  \n",
       "1  ŞOK ! ŞOK ! ŞOK ! Xanımlar və bəylər , bel və ...           0  \n",
       "2  Dəyərindən qat-qat Aşağı Qiymətə. Həzi Aslanov...           0  \n",
       "3   2028-ci il Yay Olimpiya və Paralimpiya Oyunla...           1  \n",
       "4   Türkiyədə daha bir zəlzələ meydana gəlib.   L...           2  "
      ]
     },
     "execution_count": 6,
     "metadata": {},
     "output_type": "execute_result"
    }
   ],
   "source": [
    "dataset['CategoryId'] = dataset['Category'].factorize()[0]\n",
    "dataset.head()"
   ]
  },
  {
   "cell_type": "markdown",
   "id": "a77ea207",
   "metadata": {},
   "source": [
    "#### Show Category’s Name w.r.t Category ID"
   ]
  },
  {
   "cell_type": "code",
   "execution_count": 7,
   "id": "135e4c3a",
   "metadata": {},
   "outputs": [
    {
     "data": {
      "text/html": [
       "<div>\n",
       "<style scoped>\n",
       "    .dataframe tbody tr th:only-of-type {\n",
       "        vertical-align: middle;\n",
       "    }\n",
       "\n",
       "    .dataframe tbody tr th {\n",
       "        vertical-align: top;\n",
       "    }\n",
       "\n",
       "    .dataframe thead th {\n",
       "        text-align: right;\n",
       "    }\n",
       "</style>\n",
       "<table border=\"1\" class=\"dataframe\">\n",
       "  <thead>\n",
       "    <tr style=\"text-align: right;\">\n",
       "      <th></th>\n",
       "      <th>Category</th>\n",
       "      <th>CategoryId</th>\n",
       "    </tr>\n",
       "  </thead>\n",
       "  <tbody>\n",
       "    <tr>\n",
       "      <th>0</th>\n",
       "      <td>Maraqlı</td>\n",
       "      <td>0</td>\n",
       "    </tr>\n",
       "    <tr>\n",
       "      <th>3</th>\n",
       "      <td>İdman</td>\n",
       "      <td>1</td>\n",
       "    </tr>\n",
       "    <tr>\n",
       "      <th>4</th>\n",
       "      <td>Dünya</td>\n",
       "      <td>2</td>\n",
       "    </tr>\n",
       "    <tr>\n",
       "      <th>7</th>\n",
       "      <td>Siyasət</td>\n",
       "      <td>3</td>\n",
       "    </tr>\n",
       "    <tr>\n",
       "      <th>14</th>\n",
       "      <td>İqtisadiyyat</td>\n",
       "      <td>4</td>\n",
       "    </tr>\n",
       "    <tr>\n",
       "      <th>89</th>\n",
       "      <td>Mədəniyyət</td>\n",
       "      <td>5</td>\n",
       "    </tr>\n",
       "  </tbody>\n",
       "</table>\n",
       "</div>"
      ],
      "text/plain": [
       "        Category  CategoryId\n",
       "0        Maraqlı           0\n",
       "3          İdman           1\n",
       "4          Dünya           2\n",
       "7        Siyasət           3\n",
       "14  İqtisadiyyat           4\n",
       "89    Mədəniyyət           5"
      ]
     },
     "execution_count": 7,
     "metadata": {},
     "output_type": "execute_result"
    }
   ],
   "source": [
    "# Create a new pandas dataframe \"category\", which only has unique Categories, also sorting this list in order of CategoryId values\n",
    "category = dataset[['Category', 'CategoryId']].drop_duplicates().sort_values('CategoryId')\n",
    "category"
   ]
  },
  {
   "cell_type": "markdown",
   "id": "cd741c34",
   "metadata": {},
   "source": [
    "# EDA"
   ]
  },
  {
   "cell_type": "code",
   "execution_count": 8,
   "id": "28db356c",
   "metadata": {},
   "outputs": [
    {
     "data": {
      "image/png": "[encoded data removed]",
      "text/plain": [
       "<Figure size 432x288 with 1 Axes>"
      ]
     },
     "metadata": {
      "needs_background": "light"
     },
     "output_type": "display_data"
    }
   ],
   "source": [
    "#The below graph shows the news article count for category from our dataset.\n",
    "dataset.groupby('Category').CategoryId.value_counts().plot(kind = \"bar\", color = [\"pink\", \"orange\", \"red\", \"yellow\", \"blue\"])\n",
    "plt.xlabel(\"Category of data\")\n",
    "plt.title(\"Visulaize numbers of Category of data\")\n",
    "plt.show()"
   ]
  },
  {
   "cell_type": "code",
   "execution_count": 9,
   "id": "2248a7de",
   "metadata": {},
   "outputs": [
    {
     "data": {
      "image/png": "[encoded data removed]",
      "text/plain": [
       "<Figure size 360x360 with 1 Axes>"
      ]
     },
     "metadata": {},
     "output_type": "display_data"
    }
   ],
   "source": [
    "fig = plt.figure(figsize = (5,5))\n",
    "colors = [\"skyblue\"]\n",
    "business = dataset[dataset['CategoryId'] == 0 ]\n",
    "tech = dataset[dataset['CategoryId'] == 1 ]\n",
    "politics = dataset[dataset['CategoryId'] == 2]\n",
    "sport = dataset[dataset['CategoryId'] == 3]\n",
    "entertainment = dataset[dataset['CategoryId'] == 4]\n",
    "count = [business['CategoryId'].count(), tech['CategoryId'].count(), politics['CategoryId'].count(), sport['CategoryId'].count(), entertainment['CategoryId'].count()]\n",
    "pie = plt.pie(count, labels = ['business', 'tech', 'politics', 'sport', 'entertainment'],\n",
    "              autopct = \"%1.1f%%\",\n",
    "              shadow = True,\n",
    "              colors = colors,\n",
    "              startangle = 45,\n",
    "              explode = (0.05, 0.05, 0.05, 0.05,0.05))"
   ]
  },
  {
   "cell_type": "markdown",
   "id": "6ab74958",
   "metadata": {},
   "source": [
    "#### Visualizing Category Related Words"
   ]
  },
  {
   "cell_type": "code",
   "execution_count": 10,
   "id": "c44094a0",
   "metadata": {},
   "outputs": [
    {
     "data": {
      "text/plain": [
       "0    Maraqlı\n",
       "1    Maraqlı\n",
       "2    Maraqlı\n",
       "3      İdman\n",
       "4      Dünya\n",
       "5      İdman\n",
       "6      Dünya\n",
       "7    Siyasət\n",
       "8      Dünya\n",
       "9      Dünya\n",
       "Name: Category, dtype: object"
      ]
     },
     "execution_count": 10,
     "metadata": {},
     "output_type": "execute_result"
    }
   ],
   "source": [
    "category = dataset['Category']\n",
    "category.head(10)"
   ]
  },
  {
   "cell_type": "code",
   "execution_count": 11,
   "id": "fbbecdb0",
   "metadata": {},
   "outputs": [],
   "source": [
    "def remove_tags(text):\n",
    "  remove = re.compile(r'')\n",
    "  return re.sub(remove, '', text)\n",
    "dataset['News_Article'] = dataset['News_Article'].apply(remove_tags)"
   ]
  },
  {
   "cell_type": "code",
   "execution_count": 12,
   "id": "39284481",
   "metadata": {},
   "outputs": [],
   "source": [
    "# remvoing any special characters\n",
    "def special_char(text):\n",
    "  reviews = ''\n",
    "  for x in text:\n",
    "    if x.isalnum():\n",
    "      reviews = reviews + x\n",
    "    else:\n",
    "      reviews = reviews + ' '\n",
    "  return reviews\n",
    "dataset['News_Article'] = dataset['News_Article'].apply(special_char)"
   ]
  },
  {
   "cell_type": "code",
   "execution_count": 13,
   "id": "35b12bdf",
   "metadata": {},
   "outputs": [
    {
     "data": {
      "text/plain": [
       "'şok   şok   şok   xanımlar və bəylər   bel və boyun ağrılarına son   sinir və oynaq oynaq ağrılarına son  remmatik ağrılara son  miqren və şiddətli bel ağrılarına son   bu ağrılardan azad olmağa hazırsınız o zaman sizə hemani şirkətinin hər dərdə dəva olan hazal kremini təqdim edirik  bildiyimiz kimi hər kəs bel boyun və oynaq ağrılarından əziyyət çəkir bu ağrılara necə şəfa tapmaq olar  artıq hemani şirkətinin kremi ilə baş ağrılarına remmatizma ağrılarına oynaq ağrılarına miqren ağrılarına son qoyacaqsınız tam təbii bitkilərdən hazırlanan təbiətin möcüzəsi sayılan hazal kremi həm müalicəvi  həm də ağrıkəsici bir kremdir dünyada loğman həkim şirkətinin istehsalı olan bitkilərdən hazırlanan bu kremi milyonlarla insan istifadə etdi və xeyrini gördü  yaşlı insanlar üçün istifadəsi rahat olsun deyə lasyon halından krem halına çevirdik  kremin əsas özünəməxsusluğu ondan ibarətdir ki həm müalicəvi kremdir həm də yeni yaranan ağrıları həmən aradan qaldırır artıq aslılıq yaradan ağrıkəsicilərə ehtiyyac qalmayacaq  kremiağrı olan nahiyəyə massaj şəklində yayacaqsınız və 5 dəqiqə ərzində ağrılardan azad olacaqsınız 5 dəqiqə ərzində aradan qaldırmaqla yanaşı ağrı olan nahiyəni müalicə edir tablet deyil kapsula deyil sadəcə istifadəsi çox rahat olan şəfalı bitki tərkibli dəva kremidir bu krem yalnız yaşlılar üçün deyil hər kəs üçün nəzərdə tutulub hər dərdə haza kremi artıq azərbaycanda  əlaqə üçün 055 239 54 49 buradan si̇fari̇ş et var sc cid    150627  sc domain  n ads3 adnow com  sc start 150627  new date  gettime    sağlamlıq   '"
      ]
     },
     "execution_count": 13,
     "metadata": {},
     "output_type": "execute_result"
    }
   ],
   "source": [
    "# converrting ecerything to lowercase\n",
    "def convert_lower(text):\n",
    "   return text.lower()\n",
    "dataset['News_Article'] = dataset['News_Article'].apply(convert_lower)\n",
    "dataset['News_Article'][1]"
   ]
  },
  {
   "cell_type": "code",
   "execution_count": 14,
   "id": "61d5286f",
   "metadata": {},
   "outputs": [
    {
     "data": {
      "text/plain": [
       "['şok',\n",
       " 'şok',\n",
       " 'şok',\n",
       " 'xanımlar',\n",
       " 'və',\n",
       " 'bəylər',\n",
       " 'bel',\n",
       " 'və',\n",
       " 'boyun',\n",
       " 'ağrılarına',\n",
       " 'son',\n",
       " 'sinir',\n",
       " 'və',\n",
       " 'oynaq',\n",
       " 'oynaq',\n",
       " 'ağrılarına',\n",
       " 'son',\n",
       " 'remmatik',\n",
       " 'ağrılara',\n",
       " 'son',\n",
       " 'miqren',\n",
       " 'və',\n",
       " 'şiddətli',\n",
       " 'bel',\n",
       " 'ağrılarına',\n",
       " 'son',\n",
       " 'bu',\n",
       " 'ağrılardan',\n",
       " 'azad',\n",
       " 'olmağa',\n",
       " 'hazırsınız',\n",
       " 'zaman',\n",
       " 'sizə',\n",
       " 'hemani',\n",
       " 'şirkətinin',\n",
       " 'hər',\n",
       " 'dərdə',\n",
       " 'dəva',\n",
       " 'olan',\n",
       " 'hazal',\n",
       " 'kremini',\n",
       " 'təqdim',\n",
       " 'edirik',\n",
       " 'bildiyimiz',\n",
       " 'kimi',\n",
       " 'hər',\n",
       " 'kəs',\n",
       " 'bel',\n",
       " 'boyun',\n",
       " 'və',\n",
       " 'oynaq',\n",
       " 'ağrılarından',\n",
       " 'əziyyət',\n",
       " 'çəkir',\n",
       " 'bu',\n",
       " 'ağrılara',\n",
       " 'necə',\n",
       " 'şəfa',\n",
       " 'tapmaq',\n",
       " 'olar',\n",
       " 'artıq',\n",
       " 'hemani',\n",
       " 'şirkətinin',\n",
       " 'kremi',\n",
       " 'ilə',\n",
       " 'baş',\n",
       " 'ağrılarına',\n",
       " 'remmatizma',\n",
       " 'ağrılarına',\n",
       " 'oynaq',\n",
       " 'ağrılarına',\n",
       " 'miqren',\n",
       " 'ağrılarına',\n",
       " 'son',\n",
       " 'qoyacaqsınız',\n",
       " 'tam',\n",
       " 'təbii',\n",
       " 'bitkilərdən',\n",
       " 'hazırlanan',\n",
       " 'təbiətin',\n",
       " 'möcüzəsi',\n",
       " 'sayılan',\n",
       " 'hazal',\n",
       " 'kremi',\n",
       " 'həm',\n",
       " 'müalicəvi',\n",
       " 'həm',\n",
       " 'də',\n",
       " 'ağrıkəsici',\n",
       " 'bir',\n",
       " 'kremdir',\n",
       " 'dünyada',\n",
       " 'loğman',\n",
       " 'həkim',\n",
       " 'şirkətinin',\n",
       " 'istehsalı',\n",
       " 'olan',\n",
       " 'bitkilərdən',\n",
       " 'hazırlanan',\n",
       " 'bu',\n",
       " 'kremi',\n",
       " 'milyonlarla',\n",
       " 'insan',\n",
       " 'istifadə',\n",
       " 'etdi',\n",
       " 'və',\n",
       " 'xeyrini',\n",
       " 'gördü',\n",
       " 'yaşlı',\n",
       " 'insanlar',\n",
       " 'üçün',\n",
       " 'istifadəsi',\n",
       " 'rahat',\n",
       " 'olsun',\n",
       " 'deyə',\n",
       " 'lasyon',\n",
       " 'halından',\n",
       " 'krem',\n",
       " 'halına',\n",
       " 'çevirdik',\n",
       " 'kremin',\n",
       " 'əsas',\n",
       " 'özünəməxsusluğu',\n",
       " 'ondan',\n",
       " 'ibarətdir',\n",
       " 'ki',\n",
       " 'həm',\n",
       " 'müalicəvi',\n",
       " 'kremdir',\n",
       " 'həm',\n",
       " 'də',\n",
       " 'yeni',\n",
       " 'yaranan',\n",
       " 'ağrıları',\n",
       " 'həmən',\n",
       " 'aradan',\n",
       " 'qaldırır',\n",
       " 'artıq',\n",
       " 'aslılıq',\n",
       " 'yaradan',\n",
       " 'ağrıkəsicilərə',\n",
       " 'ehtiyyac',\n",
       " 'qalmayacaq',\n",
       " 'kremiağrı',\n",
       " 'olan',\n",
       " 'nahiyəyə',\n",
       " 'massaj',\n",
       " 'şəklində',\n",
       " 'yayacaqsınız',\n",
       " 'və',\n",
       " '5',\n",
       " 'dəqiqə',\n",
       " 'ərzində',\n",
       " 'ağrılardan',\n",
       " 'azad',\n",
       " 'olacaqsınız',\n",
       " '5',\n",
       " 'dəqiqə',\n",
       " 'ərzində',\n",
       " 'aradan',\n",
       " 'qaldırmaqla',\n",
       " 'yanaşı',\n",
       " 'ağrı',\n",
       " 'olan',\n",
       " 'nahiyəni',\n",
       " 'müalicə',\n",
       " 'edir',\n",
       " 'tablet',\n",
       " 'deyil',\n",
       " 'kapsula',\n",
       " 'deyil',\n",
       " 'sadəcə',\n",
       " 'istifadəsi',\n",
       " 'çox',\n",
       " 'rahat',\n",
       " 'olan',\n",
       " 'şəfalı',\n",
       " 'bitki',\n",
       " 'tərkibli',\n",
       " 'dəva',\n",
       " 'kremidir',\n",
       " 'bu',\n",
       " 'krem',\n",
       " 'yalnız',\n",
       " 'yaşlılar',\n",
       " 'üçün',\n",
       " 'deyil',\n",
       " 'hər',\n",
       " 'kəs',\n",
       " 'üçün',\n",
       " 'nəzərdə',\n",
       " 'tutulub',\n",
       " 'hər',\n",
       " 'dərdə',\n",
       " 'haza',\n",
       " 'kremi',\n",
       " 'artıq',\n",
       " 'azərbaycanda',\n",
       " 'əlaqə',\n",
       " 'üçün',\n",
       " '055',\n",
       " '239',\n",
       " '54',\n",
       " '49',\n",
       " 'buradan',\n",
       " 'si̇fari̇ş',\n",
       " 'et',\n",
       " 'var',\n",
       " 'sc',\n",
       " 'cid',\n",
       " '150627',\n",
       " 'sc',\n",
       " 'domain',\n",
       " 'n',\n",
       " 'ads3',\n",
       " 'adnow',\n",
       " 'com',\n",
       " 'sc',\n",
       " 'start',\n",
       " '150627',\n",
       " 'new',\n",
       " 'date',\n",
       " 'gettime',\n",
       " 'sağlamlıq']"
      ]
     },
     "execution_count": 14,
     "metadata": {},
     "output_type": "execute_result"
    }
   ],
   "source": [
    "# removing the stopwords\n",
    "def remove_stopwords(text):\n",
    "  stop_words = set(stopwords.words('english'))\n",
    "  words = word_tokenize(text)\n",
    "  return [x for x in words if x not in stop_words]\n",
    "dataset['News_Article'] = dataset['News_Article'].apply(remove_stopwords)\n",
    "dataset['News_Article'][1]"
   ]
  },
  {
   "cell_type": "code",
   "execution_count": 15,
   "id": "c86119c0",
   "metadata": {},
   "outputs": [
    {
     "data": {
      "text/plain": [
       "'şok şok şok xanımlar və bəylər bel və boyun ağrılarına son sinir və oynaq oynaq ağrılarına son remmatik ağrılara son miqren və şiddətli bel ağrılarına son bu ağrılardan azad olmağa hazırsınız zaman sizə hemani şirkətinin hər dərdə dəva olan hazal kremini təqdim edirik bildiyimiz kimi hər kəs bel boyun və oynaq ağrılarından əziyyət çəkir bu ağrılara necə şəfa tapmaq olar artıq hemani şirkətinin kremi ilə baş ağrılarına remmatizma ağrılarına oynaq ağrılarına miqren ağrılarına son qoyacaqsınız tam təbii bitkilərdən hazırlanan təbiətin möcüzəsi sayılan hazal kremi həm müalicəvi həm də ağrıkəsici bir kremdir dünyada loğman həkim şirkətinin istehsalı olan bitkilərdən hazırlanan bu kremi milyonlarla insan istifadə etdi və xeyrini gördü yaşlı insanlar üçün istifadəsi rahat olsun deyə lasyon halından krem halına çevirdik kremin əsas özünəməxsusluğu ondan ibarətdir ki həm müalicəvi kremdir həm də yeni yaranan ağrıları həmən aradan qaldırır artıq aslılıq yaradan ağrıkəsicilərə ehtiyyac qalmayacaq kremiağrı olan nahiyəyə massaj şəklində yayacaqsınız və 5 dəqiqə ərzində ağrılardan azad olacaqsınız 5 dəqiqə ərzində aradan qaldırmaqla yanaşı ağrı olan nahiyəni müalicə edir tablet deyil kapsula deyil sadəcə istifadəsi çox rahat olan şəfalı bitki tərkibli dəva kremidir bu krem yalnız yaşlılar üçün deyil hər kəs üçün nəzərdə tutulub hər dərdə haza kremi artıq azərbaycanda əlaqə üçün 055 239 54 49 buradan si̇fari̇ş et var sc cid 150627 sc domain n ads3 adnow com sc start 150627 new date gettime sağlamlıq'"
      ]
     },
     "execution_count": 15,
     "metadata": {},
     "output_type": "execute_result"
    }
   ],
   "source": [
    "# Lemmatizing the Words\n",
    "def lemmatize_word(text):\n",
    "  wordnet = WordNetLemmatizer()\n",
    "  return \" \".join([wordnet.lemmatize(word) for word in text])\n",
    "dataset['News_Article'] = dataset['News_Article'].apply(lemmatize_word)\n",
    "dataset['News_Article'][1]"
   ]
  },
  {
   "cell_type": "code",
   "execution_count": 16,
   "id": "be565f23",
   "metadata": {},
   "outputs": [
    {
     "data": {
      "text/html": [
       "<div>\n",
       "<style scoped>\n",
       "    .dataframe tbody tr th:only-of-type {\n",
       "        vertical-align: middle;\n",
       "    }\n",
       "\n",
       "    .dataframe tbody tr th {\n",
       "        vertical-align: top;\n",
       "    }\n",
       "\n",
       "    .dataframe thead th {\n",
       "        text-align: right;\n",
       "    }\n",
       "</style>\n",
       "<table border=\"1\" class=\"dataframe\">\n",
       "  <thead>\n",
       "    <tr style=\"text-align: right;\">\n",
       "      <th></th>\n",
       "      <th>Category</th>\n",
       "      <th>Title</th>\n",
       "      <th>News_Article</th>\n",
       "      <th>CategoryId</th>\n",
       "    </tr>\n",
       "  </thead>\n",
       "  <tbody>\n",
       "    <tr>\n",
       "      <th>0</th>\n",
       "      <td>Maraqlı</td>\n",
       "      <td>Naviforce Sport Saat 2016 ilə zövqlərin ahəngi</td>\n",
       "      <td>naviforce sport saat 2016 yapon mexanizmi yapo...</td>\n",
       "      <td>0</td>\n",
       "    </tr>\n",
       "    <tr>\n",
       "      <th>1</th>\n",
       "      <td>Maraqlı</td>\n",
       "      <td>Sinir ,oynaq , sinir bel ağrılarına 3 gündə son !</td>\n",
       "      <td>şok şok şok xanımlar və bəylər bel və boyun ağ...</td>\n",
       "      <td>0</td>\n",
       "    </tr>\n",
       "    <tr>\n",
       "      <th>2</th>\n",
       "      <td>Maraqlı</td>\n",
       "      <td>Dəyərindən qat-qat aşağı qiymətə Mənzil</td>\n",
       "      <td>dəyərindən qat qat aşağı qiymətə həzi aslanov ...</td>\n",
       "      <td>0</td>\n",
       "    </tr>\n",
       "    <tr>\n",
       "      <th>3</th>\n",
       "      <td>İdman</td>\n",
       "      <td>2024 və 2028-ci il olimpiadalarının keçiriləcə...</td>\n",
       "      <td>2028 ci il yay olimpiya və paralimpiya oyunlar...</td>\n",
       "      <td>1</td>\n",
       "    </tr>\n",
       "    <tr>\n",
       "      <th>4</th>\n",
       "      <td>Dünya</td>\n",
       "      <td>Türkiyədə zəlzələ</td>\n",
       "      <td>türkiyədə daha bir zəlzələ meydana gəlib lent ...</td>\n",
       "      <td>2</td>\n",
       "    </tr>\n",
       "    <tr>\n",
       "      <th>...</th>\n",
       "      <td>...</td>\n",
       "      <td>...</td>\n",
       "      <td>...</td>\n",
       "      <td>...</td>\n",
       "    </tr>\n",
       "    <tr>\n",
       "      <th>49995</th>\n",
       "      <td>Siyasət</td>\n",
       "      <td>Əli Kərimli terrorçularla da əməkdaşlığa hazır...</td>\n",
       "      <td>axcp sədri milli şura nın mitinqində qəsdən qa...</td>\n",
       "      <td>3</td>\n",
       "    </tr>\n",
       "    <tr>\n",
       "      <th>49996</th>\n",
       "      <td>Siyasət</td>\n",
       "      <td>Elşən Musayev: “Bəlkə elə o terrorist Əli Kəri...</td>\n",
       "      <td>ümumiyyətlə milli şuraya xoş olan hətta onları...</td>\n",
       "      <td>3</td>\n",
       "    </tr>\n",
       "    <tr>\n",
       "      <th>49997</th>\n",
       "      <td>Dünya</td>\n",
       "      <td>İstanbulda 52 mərtəbəli binada yanğın baş verib</td>\n",
       "      <td>türkiyənin i̇stanbul şəhərinin ataşehir rayonu...</td>\n",
       "      <td>2</td>\n",
       "    </tr>\n",
       "    <tr>\n",
       "      <th>49998</th>\n",
       "      <td>Dünya</td>\n",
       "      <td>“Onlar cinayətkarlardır və bir-bir məhv edilir...</td>\n",
       "      <td>rusiyanı tərk edərək i̇şi̇d sıralarında döyüşə...</td>\n",
       "      <td>2</td>\n",
       "    </tr>\n",
       "    <tr>\n",
       "      <th>49999</th>\n",
       "      <td>İqtisadiyyat</td>\n",
       "      <td>Ukrayna Mərkəzi Bankı gözlənilmədən uçot dərəc...</td>\n",
       "      <td>ukrayna mərkəzi bankı nbu bu gün keçirdiyi icl...</td>\n",
       "      <td>4</td>\n",
       "    </tr>\n",
       "  </tbody>\n",
       "</table>\n",
       "<p>50000 rows × 4 columns</p>\n",
       "</div>"
      ],
      "text/plain": [
       "           Category                                              Title  \\\n",
       "0           Maraqlı     Naviforce Sport Saat 2016 ilə zövqlərin ahəngi   \n",
       "1           Maraqlı  Sinir ,oynaq , sinir bel ağrılarına 3 gündə son !   \n",
       "2           Maraqlı            Dəyərindən qat-qat aşağı qiymətə Mənzil   \n",
       "3             İdman  2024 və 2028-ci il olimpiadalarının keçiriləcə...   \n",
       "4             Dünya                                 Türkiyədə zəlzələ    \n",
       "...             ...                                                ...   \n",
       "49995       Siyasət  Əli Kərimli terrorçularla da əməkdaşlığa hazır...   \n",
       "49996       Siyasət  Elşən Musayev: “Bəlkə elə o terrorist Əli Kəri...   \n",
       "49997         Dünya    İstanbulda 52 mərtəbəli binada yanğın baş verib   \n",
       "49998         Dünya  “Onlar cinayətkarlardır və bir-bir məhv edilir...   \n",
       "49999  İqtisadiyyat  Ukrayna Mərkəzi Bankı gözlənilmədən uçot dərəc...   \n",
       "\n",
       "                                            News_Article  CategoryId  \n",
       "0      naviforce sport saat 2016 yapon mexanizmi yapo...           0  \n",
       "1      şok şok şok xanımlar və bəylər bel və boyun ağ...           0  \n",
       "2      dəyərindən qat qat aşağı qiymətə həzi aslanov ...           0  \n",
       "3      2028 ci il yay olimpiya və paralimpiya oyunlar...           1  \n",
       "4      türkiyədə daha bir zəlzələ meydana gəlib lent ...           2  \n",
       "...                                                  ...         ...  \n",
       "49995  axcp sədri milli şura nın mitinqində qəsdən qa...           3  \n",
       "49996  ümumiyyətlə milli şuraya xoş olan hətta onları...           3  \n",
       "49997  türkiyənin i̇stanbul şəhərinin ataşehir rayonu...           2  \n",
       "49998  rusiyanı tərk edərək i̇şi̇d sıralarında döyüşə...           2  \n",
       "49999  ukrayna mərkəzi bankı nbu bu gün keçirdiyi icl...           4  \n",
       "\n",
       "[50000 rows x 4 columns]"
      ]
     },
     "execution_count": 16,
     "metadata": {},
     "output_type": "execute_result"
    }
   ],
   "source": [
    "dataset"
   ]
  },
  {
   "cell_type": "code",
   "execution_count": 17,
   "id": "609a1c72",
   "metadata": {},
   "outputs": [],
   "source": [
    "x = dataset['News_Article']\n",
    "y = dataset['CategoryId']"
   ]
  },
  {
   "cell_type": "code",
   "execution_count": 18,
   "id": "085c5e10",
   "metadata": {},
   "outputs": [
    {
     "name": "stdout",
     "output_type": "stream",
     "text": [
      "X.shape =  (50000, 5000)\n",
      "y.shape =  (50000,)\n"
     ]
    }
   ],
   "source": [
    "from sklearn.feature_extraction.text import CountVectorizer\n",
    "x = np.array(dataset.iloc[:,0].values)\n",
    "y = np.array(dataset.CategoryId.values)\n",
    "cv = CountVectorizer(max_features = 5000)\n",
    "x = cv.fit_transform(dataset.News_Article).toarray()\n",
    "print(\"X.shape = \",x.shape)\n",
    "print(\"y.shape = \",y.shape)"
   ]
  },
  {
   "cell_type": "code",
   "execution_count": 19,
   "id": "0c104ef3",
   "metadata": {},
   "outputs": [
    {
     "name": "stdout",
     "output_type": "stream",
     "text": [
      "35000\n",
      "15000\n"
     ]
    }
   ],
   "source": [
    "from sklearn.model_selection import train_test_split\n",
    "x_train, x_test, y_train, y_test = train_test_split(x, y, test_size = 0.3, random_state = 0, shuffle = True)\n",
    "print(len(x_train))\n",
    "print(len(x_test))"
   ]
  },
  {
   "cell_type": "code",
   "execution_count": 20,
   "id": "165e0252",
   "metadata": {},
   "outputs": [],
   "source": [
    "#create list of model and accuracy dicts\n",
    "perform_list = [ ]"
   ]
  },
  {
   "cell_type": "markdown",
   "id": "4fab4c91",
   "metadata": {},
   "source": [
    "#### Logistic Regression "
   ]
  },
  {
   "cell_type": "code",
   "execution_count": 24,
   "id": "a05112e9",
   "metadata": {},
   "outputs": [
    {
     "name": "stderr",
     "output_type": "stream",
     "text": [
      "C:\\Users\\hp\\AppData\\Roaming\\Python\\Python38\\site-packages\\sklearn\\linear_model\\_logistic.py:814: ConvergenceWarning: lbfgs failed to converge (status=1):\n",
      "STOP: TOTAL NO. of ITERATIONS REACHED LIMIT.\n",
      "\n",
      "Increase the number of iterations (max_iter) or scale the data as shown in:\n",
      "    https://scikit-learn.org/stable/modules/preprocessing.html\n",
      "Please also refer to the documentation for alternative solver options:\n",
      "    https://scikit-learn.org/stable/modules/linear_model.html#logistic-regression\n",
      "  n_iter_i = _check_optimize_result(\n"
     ]
    },
    {
     "data": {
      "text/plain": [
       "LogisticRegression()"
      ]
     },
     "execution_count": 24,
     "metadata": {},
     "output_type": "execute_result"
    }
   ],
   "source": [
    "# Logistic Regression\n",
    "lr = LogisticRegression()\n",
    "lr.fit(x_train,y_train)"
   ]
  },
  {
   "cell_type": "code",
   "execution_count": 25,
   "id": "441b5eba",
   "metadata": {},
   "outputs": [
    {
     "data": {
      "text/plain": [
       "array([2, 2, 4, ..., 3, 1, 2], dtype=int64)"
      ]
     },
     "execution_count": 25,
     "metadata": {},
     "output_type": "execute_result"
    }
   ],
   "source": [
    "lr.predict(x_test)"
   ]
  },
  {
   "cell_type": "code",
   "execution_count": 26,
   "id": "952cd053",
   "metadata": {},
   "outputs": [
    {
     "data": {
      "text/plain": [
       "0.8041333333333334"
      ]
     },
     "execution_count": 26,
     "metadata": {},
     "output_type": "execute_result"
    }
   ],
   "source": [
    "lr.score(x_test,y_test)"
   ]
  },
  {
   "cell_type": "markdown",
   "id": "71234671",
   "metadata": {},
   "source": [
    "#### Random Forest"
   ]
  },
  {
   "cell_type": "code",
   "execution_count": 29,
   "id": "05b5890f",
   "metadata": {},
   "outputs": [
    {
     "data": {
      "text/plain": [
       "RandomForestClassifier()"
      ]
     },
     "execution_count": 29,
     "metadata": {},
     "output_type": "execute_result"
    }
   ],
   "source": [
    "rf = RandomForestClassifier()\n",
    "rf.fit(x_train,y_train)"
   ]
  },
  {
   "cell_type": "code",
   "execution_count": 30,
   "id": "62470776",
   "metadata": {},
   "outputs": [
    {
     "data": {
      "text/plain": [
       "array([2, 2, 4, ..., 3, 1, 2], dtype=int64)"
      ]
     },
     "execution_count": 30,
     "metadata": {},
     "output_type": "execute_result"
    }
   ],
   "source": [
    "rf.predict(x_test)"
   ]
  },
  {
   "cell_type": "code",
   "execution_count": 31,
   "id": "6581bb79",
   "metadata": {},
   "outputs": [
    {
     "data": {
      "text/plain": [
       "0.813"
      ]
     },
     "execution_count": 31,
     "metadata": {},
     "output_type": "execute_result"
    }
   ],
   "source": [
    "rf.score(x_test,y_test)"
   ]
  },
  {
   "cell_type": "markdown",
   "id": "d2e19114",
   "metadata": {},
   "source": [
    "#### MultinomialNB"
   ]
  },
  {
   "cell_type": "code",
   "execution_count": 33,
   "id": "548f795a",
   "metadata": {},
   "outputs": [
    {
     "data": {
      "text/plain": [
       "MultinomialNB()"
      ]
     },
     "execution_count": 33,
     "metadata": {},
     "output_type": "execute_result"
    }
   ],
   "source": [
    "mt = MultinomialNB()\n",
    "mt.fit(x_train,y_train)"
   ]
  },
  {
   "cell_type": "code",
   "execution_count": 34,
   "id": "c8f17b60",
   "metadata": {},
   "outputs": [
    {
     "data": {
      "text/plain": [
       "array([0, 2, 4, ..., 3, 1, 2], dtype=int64)"
      ]
     },
     "execution_count": 34,
     "metadata": {},
     "output_type": "execute_result"
    }
   ],
   "source": [
    "mt.predict(x_test)"
   ]
  },
  {
   "cell_type": "code",
   "execution_count": 35,
   "id": "4ffd66de",
   "metadata": {},
   "outputs": [
    {
     "data": {
      "text/plain": [
       "0.7780666666666667"
      ]
     },
     "execution_count": 35,
     "metadata": {},
     "output_type": "execute_result"
    }
   ],
   "source": [
    "mt.score(x_test,y_test)"
   ]
  },
  {
   "cell_type": "markdown",
   "id": "090a367e",
   "metadata": {},
   "source": [
    "#### Decision Tree Classifier"
   ]
  },
  {
   "cell_type": "code",
   "execution_count": 36,
   "id": "18ebb7ce",
   "metadata": {},
   "outputs": [
    {
     "data": {
      "text/plain": [
       "DecisionTreeClassifier()"
      ]
     },
     "execution_count": 36,
     "metadata": {},
     "output_type": "execute_result"
    }
   ],
   "source": [
    "tree = DecisionTreeClassifier()\n",
    "tree.fit(x_train,y_train)"
   ]
  },
  {
   "cell_type": "code",
   "execution_count": 37,
   "id": "edc6e081",
   "metadata": {},
   "outputs": [
    {
     "data": {
      "text/plain": [
       "array([2, 2, 4, ..., 3, 1, 2], dtype=int64)"
      ]
     },
     "execution_count": 37,
     "metadata": {},
     "output_type": "execute_result"
    }
   ],
   "source": [
    "tree.predict(x_test)"
   ]
  },
  {
   "cell_type": "code",
   "execution_count": 38,
   "id": "7b0963b2",
   "metadata": {},
   "outputs": [
    {
     "data": {
      "text/plain": [
       "0.7325333333333334"
      ]
     },
     "execution_count": 38,
     "metadata": {},
     "output_type": "execute_result"
    }
   ],
   "source": [
    "tree.score(x_test,y_test)"
   ]
  },
  {
   "cell_type": "markdown",
   "id": "577280fe",
   "metadata": {},
   "source": [
    "#### KNeighbors Classifier"
   ]
  },
  {
   "cell_type": "code",
   "execution_count": 39,
   "id": "c33f0e9b",
   "metadata": {},
   "outputs": [
    {
     "data": {
      "text/plain": [
       "KNeighborsClassifier()"
      ]
     },
     "execution_count": 39,
     "metadata": {},
     "output_type": "execute_result"
    }
   ],
   "source": [
    "knn = KNeighborsClassifier()\n",
    "knn.fit(x_train,y_train)"
   ]
  },
  {
   "cell_type": "code",
   "execution_count": 43,
   "id": "3c49dd21",
   "metadata": {},
   "outputs": [],
   "source": [
    "# knn.predict(x_test)"
   ]
  },
  {
   "cell_type": "code",
   "execution_count": 44,
   "id": "db17ffc7",
   "metadata": {},
   "outputs": [],
   "source": [
    "# knn.score(x_test,y_test)"
   ]
  },
  {
   "cell_type": "code",
   "execution_count": null,
   "id": "05dcdb59",
   "metadata": {},
   "outputs": [],
   "source": []
  },
  {
   "cell_type": "code",
   "execution_count": null,
   "id": "47b8b76b",
   "metadata": {},
   "outputs": [],
   "source": []
  },
  {
   "cell_type": "code",
   "execution_count": null,
   "id": "e9064c1e",
   "metadata": {},
   "outputs": [],
   "source": []
  },
  {
   "cell_type": "code",
   "execution_count": null,
   "id": "92b460ce",
   "metadata": {},
   "outputs": [],
   "source": []
  },
  {
   "cell_type": "code",
   "execution_count": null,
   "id": "9a188a82",
   "metadata": {},
   "outputs": [],
   "source": []
  },
  {
   "cell_type": "code",
   "execution_count": null,
   "id": "6ba513ef",
   "metadata": {},
   "outputs": [],
   "source": []
  },
  {
   "cell_type": "code",
   "execution_count": null,
   "id": "031ba220",
   "metadata": {},
   "outputs": [],
   "source": []
  },
  {
   "cell_type": "code",
   "execution_count": null,
   "id": "5830d8c6",
   "metadata": {},
   "outputs": [],
   "source": []
  },
  {
   "cell_type": "code",
   "execution_count": null,
   "id": "124e702d",
   "metadata": {},
   "outputs": [],
   "source": [
    "\n"
   ]
  }
 ],
 "metadata": {
  "kernelspec": {
   "display_name": "Python 3",
   "language": "python",
   "name": "python3"
  },
  "language_info": {
   "codemirror_mode": {
    "name": "ipython",
    "version": 3
   },
   "file_extension": ".py",
   "mimetype": "text/x-python",
   "name": "python",
   "nbconvert_exporter": "python",
   "pygments_lexer": "ipython3",
   "version": "3.8.8"
  }
 },
 "nbformat": 4,
 "nbformat_minor": 5
}
